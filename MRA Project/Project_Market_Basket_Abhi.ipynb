{
 "cells": [
  {
   "cell_type": "code",
   "execution_count": 1,
   "metadata": {
    "id": "chKSwlZPdmYT"
   },
   "outputs": [],
   "source": [
    "## Import the Libraries\n",
    "import numpy as np\n",
    "import pandas as pd\n",
    "\n",
    "import seaborn as sns\n",
    "import matplotlib.pyplot as plt\n",
    "\n",
    "from warnings import filterwarnings\n",
    "filterwarnings('ignore')"
   ]
  },
  {
   "cell_type": "code",
   "execution_count": 2,
   "metadata": {
    "id": "AvE27dzLeWXs"
   },
   "outputs": [],
   "source": [
    "## Loading file\n",
    "df = pd.read_csv('dataset_group.csv', parse_dates=['Date'], dayfirst=True)"
   ]
  },
  {
   "cell_type": "code",
   "execution_count": 3,
   "metadata": {
    "colab": {
     "base_uri": "https://localhost:8080/",
     "height": 423
    },
    "id": "wsMOUF2oejAy",
    "outputId": "669bbdbd-35d2-4c6c-d207-28350d0a5f2a"
   },
   "outputs": [
    {
     "data": {
      "text/html": [
       "<div>\n",
       "<style scoped>\n",
       "    .dataframe tbody tr th:only-of-type {\n",
       "        vertical-align: middle;\n",
       "    }\n",
       "\n",
       "    .dataframe tbody tr th {\n",
       "        vertical-align: top;\n",
       "    }\n",
       "\n",
       "    .dataframe thead th {\n",
       "        text-align: right;\n",
       "    }\n",
       "</style>\n",
       "<table border=\"1\" class=\"dataframe\">\n",
       "  <thead>\n",
       "    <tr style=\"text-align: right;\">\n",
       "      <th></th>\n",
       "      <th>Date</th>\n",
       "      <th>Order_id</th>\n",
       "      <th>Product</th>\n",
       "    </tr>\n",
       "  </thead>\n",
       "  <tbody>\n",
       "    <tr>\n",
       "      <th>0</th>\n",
       "      <td>2018-01-01</td>\n",
       "      <td>1</td>\n",
       "      <td>yogurt</td>\n",
       "    </tr>\n",
       "    <tr>\n",
       "      <th>1</th>\n",
       "      <td>2018-01-01</td>\n",
       "      <td>1</td>\n",
       "      <td>pork</td>\n",
       "    </tr>\n",
       "    <tr>\n",
       "      <th>2</th>\n",
       "      <td>2018-01-01</td>\n",
       "      <td>1</td>\n",
       "      <td>sandwich bags</td>\n",
       "    </tr>\n",
       "    <tr>\n",
       "      <th>3</th>\n",
       "      <td>2018-01-01</td>\n",
       "      <td>1</td>\n",
       "      <td>lunch meat</td>\n",
       "    </tr>\n",
       "    <tr>\n",
       "      <th>4</th>\n",
       "      <td>2018-01-01</td>\n",
       "      <td>1</td>\n",
       "      <td>all- purpose</td>\n",
       "    </tr>\n",
       "    <tr>\n",
       "      <th>...</th>\n",
       "      <td>...</td>\n",
       "      <td>...</td>\n",
       "      <td>...</td>\n",
       "    </tr>\n",
       "    <tr>\n",
       "      <th>20636</th>\n",
       "      <td>2020-02-25</td>\n",
       "      <td>1138</td>\n",
       "      <td>soda</td>\n",
       "    </tr>\n",
       "    <tr>\n",
       "      <th>20637</th>\n",
       "      <td>2020-02-25</td>\n",
       "      <td>1138</td>\n",
       "      <td>paper towels</td>\n",
       "    </tr>\n",
       "    <tr>\n",
       "      <th>20638</th>\n",
       "      <td>2020-02-26</td>\n",
       "      <td>1139</td>\n",
       "      <td>soda</td>\n",
       "    </tr>\n",
       "    <tr>\n",
       "      <th>20639</th>\n",
       "      <td>2020-02-26</td>\n",
       "      <td>1139</td>\n",
       "      <td>laundry detergent</td>\n",
       "    </tr>\n",
       "    <tr>\n",
       "      <th>20640</th>\n",
       "      <td>2020-02-26</td>\n",
       "      <td>1139</td>\n",
       "      <td>shampoo</td>\n",
       "    </tr>\n",
       "  </tbody>\n",
       "</table>\n",
       "<p>20641 rows × 3 columns</p>\n",
       "</div>"
      ],
      "text/plain": [
       "            Date  Order_id            Product\n",
       "0     2018-01-01         1             yogurt\n",
       "1     2018-01-01         1               pork\n",
       "2     2018-01-01         1      sandwich bags\n",
       "3     2018-01-01         1         lunch meat\n",
       "4     2018-01-01         1       all- purpose\n",
       "...          ...       ...                ...\n",
       "20636 2020-02-25      1138               soda\n",
       "20637 2020-02-25      1138       paper towels\n",
       "20638 2020-02-26      1139               soda\n",
       "20639 2020-02-26      1139  laundry detergent\n",
       "20640 2020-02-26      1139            shampoo\n",
       "\n",
       "[20641 rows x 3 columns]"
      ]
     },
     "execution_count": 3,
     "metadata": {},
     "output_type": "execute_result"
    }
   ],
   "source": [
    "## samples of the data\n",
    "df"
   ]
  },
  {
   "cell_type": "code",
   "execution_count": 4,
   "metadata": {
    "colab": {
     "base_uri": "https://localhost:8080/"
    },
    "id": "IDGV64sLeqtA",
    "outputId": "d940f4ab-0be9-46de-91b8-19e00fa1dc6e"
   },
   "outputs": [
    {
     "data": {
      "text/plain": [
       "(20641, 3)"
      ]
     },
     "execution_count": 4,
     "metadata": {},
     "output_type": "execute_result"
    }
   ],
   "source": [
    "## Shape of the data\n",
    "df.shape"
   ]
  },
  {
   "cell_type": "code",
   "execution_count": 5,
   "metadata": {
    "colab": {
     "base_uri": "https://localhost:8080/"
    },
    "id": "kKPhhj6LeuZ8",
    "outputId": "5600ed9d-9aee-4173-ec23-8b60c2028ac7"
   },
   "outputs": [
    {
     "name": "stdout",
     "output_type": "stream",
     "text": [
      "<class 'pandas.core.frame.DataFrame'>\n",
      "RangeIndex: 20641 entries, 0 to 20640\n",
      "Data columns (total 3 columns):\n",
      " #   Column    Non-Null Count  Dtype         \n",
      "---  ------    --------------  -----         \n",
      " 0   Date      20641 non-null  datetime64[ns]\n",
      " 1   Order_id  20641 non-null  int64         \n",
      " 2   Product   20641 non-null  object        \n",
      "dtypes: datetime64[ns](1), int64(1), object(1)\n",
      "memory usage: 483.9+ KB\n"
     ]
    }
   ],
   "source": [
    "## Information of the dataset\n",
    "df.info()"
   ]
  },
  {
   "cell_type": "markdown",
   "metadata": {
    "id": "-vfmmyzufC3o"
   },
   "source": [
    "- Exploratory Data Analysis"
   ]
  },
  {
   "cell_type": "code",
   "execution_count": 6,
   "metadata": {
    "colab": {
     "base_uri": "https://localhost:8080/"
    },
    "id": "amd-ZzsJfFoM",
    "outputId": "999c56bd-5132-46db-93f9-fbd4e57a7dc5"
   },
   "outputs": [
    {
     "data": {
      "text/plain": [
       "Date        0\n",
       "Order_id    0\n",
       "Product     0\n",
       "dtype: int64"
      ]
     },
     "execution_count": 6,
     "metadata": {},
     "output_type": "execute_result"
    }
   ],
   "source": [
    "## Missing values\n",
    "df.isnull().sum()"
   ]
  },
  {
   "cell_type": "markdown",
   "metadata": {
    "id": "N69aYDvKfMTk"
   },
   "source": [
    "- No missing values found"
   ]
  },
  {
   "cell_type": "code",
   "execution_count": 7,
   "metadata": {
    "colab": {
     "base_uri": "https://localhost:8080/"
    },
    "id": "0LHODDLZfHF8",
    "outputId": "fb6a20c0-11f7-4d6d-c0e3-c7ae4ca9dca8"
   },
   "outputs": [
    {
     "name": "stdout",
     "output_type": "stream",
     "text": [
      "Total duplicate values: 4730\n"
     ]
    }
   ],
   "source": [
    "## Checking duplicate values\n",
    "print(\"Total duplicate values:\" ,df.duplicated().sum())"
   ]
  },
  {
   "cell_type": "code",
   "execution_count": 8,
   "metadata": {
    "colab": {
     "base_uri": "https://localhost:8080/",
     "height": 423
    },
    "id": "vuLAIdBh4fYl",
    "outputId": "9ec97ab8-5eee-468c-d619-81a96e1561fe"
   },
   "outputs": [
    {
     "data": {
      "text/html": [
       "<div>\n",
       "<style scoped>\n",
       "    .dataframe tbody tr th:only-of-type {\n",
       "        vertical-align: middle;\n",
       "    }\n",
       "\n",
       "    .dataframe tbody tr th {\n",
       "        vertical-align: top;\n",
       "    }\n",
       "\n",
       "    .dataframe thead th {\n",
       "        text-align: right;\n",
       "    }\n",
       "</style>\n",
       "<table border=\"1\" class=\"dataframe\">\n",
       "  <thead>\n",
       "    <tr style=\"text-align: right;\">\n",
       "      <th></th>\n",
       "      <th>Date</th>\n",
       "      <th>Order_id</th>\n",
       "      <th>Product</th>\n",
       "    </tr>\n",
       "  </thead>\n",
       "  <tbody>\n",
       "    <tr>\n",
       "      <th>4</th>\n",
       "      <td>2018-01-01</td>\n",
       "      <td>1</td>\n",
       "      <td>all- purpose</td>\n",
       "    </tr>\n",
       "    <tr>\n",
       "      <th>10</th>\n",
       "      <td>2018-01-01</td>\n",
       "      <td>1</td>\n",
       "      <td>all- purpose</td>\n",
       "    </tr>\n",
       "    <tr>\n",
       "      <th>11</th>\n",
       "      <td>2018-01-01</td>\n",
       "      <td>1</td>\n",
       "      <td>dinner rolls</td>\n",
       "    </tr>\n",
       "    <tr>\n",
       "      <th>13</th>\n",
       "      <td>2018-01-01</td>\n",
       "      <td>1</td>\n",
       "      <td>all- purpose</td>\n",
       "    </tr>\n",
       "    <tr>\n",
       "      <th>18</th>\n",
       "      <td>2018-01-01</td>\n",
       "      <td>1</td>\n",
       "      <td>dinner rolls</td>\n",
       "    </tr>\n",
       "    <tr>\n",
       "      <th>...</th>\n",
       "      <td>...</td>\n",
       "      <td>...</td>\n",
       "      <td>...</td>\n",
       "    </tr>\n",
       "    <tr>\n",
       "      <th>20632</th>\n",
       "      <td>2020-02-25</td>\n",
       "      <td>1138</td>\n",
       "      <td>sandwich bags</td>\n",
       "    </tr>\n",
       "    <tr>\n",
       "      <th>20633</th>\n",
       "      <td>2020-02-25</td>\n",
       "      <td>1138</td>\n",
       "      <td>toilet paper</td>\n",
       "    </tr>\n",
       "    <tr>\n",
       "      <th>20634</th>\n",
       "      <td>2020-02-25</td>\n",
       "      <td>1138</td>\n",
       "      <td>soda</td>\n",
       "    </tr>\n",
       "    <tr>\n",
       "      <th>20635</th>\n",
       "      <td>2020-02-25</td>\n",
       "      <td>1138</td>\n",
       "      <td>soda</td>\n",
       "    </tr>\n",
       "    <tr>\n",
       "      <th>20636</th>\n",
       "      <td>2020-02-25</td>\n",
       "      <td>1138</td>\n",
       "      <td>soda</td>\n",
       "    </tr>\n",
       "  </tbody>\n",
       "</table>\n",
       "<p>8613 rows × 3 columns</p>\n",
       "</div>"
      ],
      "text/plain": [
       "            Date  Order_id        Product\n",
       "4     2018-01-01         1   all- purpose\n",
       "10    2018-01-01         1   all- purpose\n",
       "11    2018-01-01         1   dinner rolls\n",
       "13    2018-01-01         1   all- purpose\n",
       "18    2018-01-01         1   dinner rolls\n",
       "...          ...       ...            ...\n",
       "20632 2020-02-25      1138  sandwich bags\n",
       "20633 2020-02-25      1138   toilet paper\n",
       "20634 2020-02-25      1138           soda\n",
       "20635 2020-02-25      1138           soda\n",
       "20636 2020-02-25      1138           soda\n",
       "\n",
       "[8613 rows x 3 columns]"
      ]
     },
     "execution_count": 8,
     "metadata": {},
     "output_type": "execute_result"
    }
   ],
   "source": [
    "## Let's validate if the duplicates are of same order are belong to different orders\n",
    "df[df.duplicated(keep=False)]"
   ]
  },
  {
   "cell_type": "markdown",
   "metadata": {
    "id": "F3vR-H_D4XL5"
   },
   "source": [
    "- There are 4730 duplicates found in the data that are belonging to same set of orders, let's remove them"
   ]
  },
  {
   "cell_type": "code",
   "execution_count": 9,
   "metadata": {
    "id": "S2N_s-2A62D1"
   },
   "outputs": [],
   "source": [
    "df = df.drop_duplicates()"
   ]
  },
  {
   "cell_type": "code",
   "execution_count": 10,
   "metadata": {
    "colab": {
     "base_uri": "https://localhost:8080/",
     "height": 80
    },
    "id": "R9syi4V29eR7",
    "outputId": "6e7bd06d-e4c4-4757-d73c-656827ab2ccd"
   },
   "outputs": [
    {
     "data": {
      "text/html": [
       "<div>\n",
       "<style scoped>\n",
       "    .dataframe tbody tr th:only-of-type {\n",
       "        vertical-align: middle;\n",
       "    }\n",
       "\n",
       "    .dataframe tbody tr th {\n",
       "        vertical-align: top;\n",
       "    }\n",
       "\n",
       "    .dataframe thead th {\n",
       "        text-align: right;\n",
       "    }\n",
       "</style>\n",
       "<table border=\"1\" class=\"dataframe\">\n",
       "  <thead>\n",
       "    <tr style=\"text-align: right;\">\n",
       "      <th></th>\n",
       "      <th>count</th>\n",
       "      <th>mean</th>\n",
       "      <th>min</th>\n",
       "      <th>25%</th>\n",
       "      <th>50%</th>\n",
       "      <th>75%</th>\n",
       "      <th>max</th>\n",
       "      <th>std</th>\n",
       "    </tr>\n",
       "  </thead>\n",
       "  <tbody>\n",
       "    <tr>\n",
       "      <th>Date</th>\n",
       "      <td>15911</td>\n",
       "      <td>2018-12-20 06:48:10.226886912</td>\n",
       "      <td>2018-01-01 00:00:00</td>\n",
       "      <td>2018-05-27 12:00:00</td>\n",
       "      <td>2019-01-29 00:00:00</td>\n",
       "      <td>2019-06-18 00:00:00</td>\n",
       "      <td>2020-02-26 00:00:00</td>\n",
       "      <td>NaN</td>\n",
       "    </tr>\n",
       "    <tr>\n",
       "      <th>Order_id</th>\n",
       "      <td>15911.0</td>\n",
       "      <td>574.15</td>\n",
       "      <td>1.0</td>\n",
       "      <td>289.5</td>\n",
       "      <td>579.0</td>\n",
       "      <td>859.0</td>\n",
       "      <td>1139.0</td>\n",
       "      <td>328.54</td>\n",
       "    </tr>\n",
       "  </tbody>\n",
       "</table>\n",
       "</div>"
      ],
      "text/plain": [
       "            count                           mean                  min  \\\n",
       "Date        15911  2018-12-20 06:48:10.226886912  2018-01-01 00:00:00   \n",
       "Order_id  15911.0                         574.15                  1.0   \n",
       "\n",
       "                          25%                  50%                  75%  \\\n",
       "Date      2018-05-27 12:00:00  2019-01-29 00:00:00  2019-06-18 00:00:00   \n",
       "Order_id                289.5                579.0                859.0   \n",
       "\n",
       "                          max     std  \n",
       "Date      2020-02-26 00:00:00     NaN  \n",
       "Order_id               1139.0  328.54  "
      ]
     },
     "metadata": {},
     "output_type": "display_data"
    }
   ],
   "source": [
    "# #Descriptive Summary of the dataset - Numeric features\n",
    "\n",
    "display(round(df.describe(),2).T)"
   ]
  },
  {
   "cell_type": "code",
   "execution_count": 11,
   "metadata": {
    "colab": {
     "base_uri": "https://localhost:8080/",
     "height": 80
    },
    "id": "UN6ITh469go-",
    "outputId": "59fd3820-f29b-4b41-c6fd-e6e9e29a7d0c"
   },
   "outputs": [
    {
     "data": {
      "text/html": [
       "<div>\n",
       "<style scoped>\n",
       "    .dataframe tbody tr th:only-of-type {\n",
       "        vertical-align: middle;\n",
       "    }\n",
       "\n",
       "    .dataframe tbody tr th {\n",
       "        vertical-align: top;\n",
       "    }\n",
       "\n",
       "    .dataframe thead th {\n",
       "        text-align: right;\n",
       "    }\n",
       "</style>\n",
       "<table border=\"1\" class=\"dataframe\">\n",
       "  <thead>\n",
       "    <tr style=\"text-align: right;\">\n",
       "      <th></th>\n",
       "      <th>count</th>\n",
       "      <th>unique</th>\n",
       "      <th>top</th>\n",
       "      <th>freq</th>\n",
       "    </tr>\n",
       "  </thead>\n",
       "  <tbody>\n",
       "    <tr>\n",
       "      <th>Product</th>\n",
       "      <td>15911</td>\n",
       "      <td>37</td>\n",
       "      <td>poultry</td>\n",
       "      <td>480</td>\n",
       "    </tr>\n",
       "  </tbody>\n",
       "</table>\n",
       "</div>"
      ],
      "text/plain": [
       "         count unique      top freq\n",
       "Product  15911     37  poultry  480"
      ]
     },
     "execution_count": 11,
     "metadata": {},
     "output_type": "execute_result"
    }
   ],
   "source": [
    "#Categorical\n",
    "df.describe(include = 'object').T"
   ]
  },
  {
   "cell_type": "code",
   "execution_count": 12,
   "metadata": {
    "colab": {
     "base_uri": "https://localhost:8080/"
    },
    "id": "bBJSJIF-gvc9",
    "outputId": "bcce3113-b55b-45ba-f2b1-3eeb440f453a"
   },
   "outputs": [
    {
     "data": {
      "text/plain": [
       "array(['yogurt', 'pork', 'sandwich bags', 'lunch meat', 'all- purpose',\n",
       "       'flour', 'soda', 'butter', 'beef', 'aluminum foil', 'dinner rolls',\n",
       "       'shampoo', 'mixes', 'soap', 'laundry detergent', 'ice cream',\n",
       "       'toilet paper', 'hand soap', 'waffles', 'cheeses', 'milk',\n",
       "       'dishwashing liquid/detergent', 'individual meals', 'cereals',\n",
       "       'tortillas', 'spaghetti sauce', 'ketchup', 'sandwich loaves',\n",
       "       'poultry', 'bagels', 'eggs', 'juice', 'pasta', 'paper towels',\n",
       "       'coffee/tea', 'fruits', 'sugar'], dtype=object)"
      ]
     },
     "execution_count": 12,
     "metadata": {},
     "output_type": "execute_result"
    }
   ],
   "source": [
    "#Checking for anomalies in the data\n",
    "df['Product'].unique()"
   ]
  },
  {
   "cell_type": "code",
   "execution_count": 15,
   "metadata": {},
   "outputs": [],
   "source": [
    "## Let's check any negative values in the dataset\n",
    "row_means = df.iloc[:, 1:].mean(axis=1, numeric_only=True)\n",
    "## checking the negative values\n",
    "count_negative_means = np.sum(row_means < 0)"
   ]
  },
  {
   "cell_type": "code",
   "execution_count": 16,
   "metadata": {
    "colab": {
     "base_uri": "https://localhost:8080/"
    },
    "id": "phpi87i45h7b",
    "outputId": "786b2d43-5e62-46d3-cd1b-ca06368f5bd8"
   },
   "outputs": [
    {
     "name": "stdout",
     "output_type": "stream",
     "text": [
      "0\n"
     ]
    }
   ],
   "source": [
    "print(count_negative_means)"
   ]
  },
  {
   "cell_type": "markdown",
   "metadata": {
    "id": "yLUoXFDS7lTx"
   },
   "source": [
    "- Data seems fine, Let's export for further analysis"
   ]
  },
  {
   "cell_type": "code",
   "execution_count": 17,
   "metadata": {
    "colab": {
     "base_uri": "https://localhost:8080/"
    },
    "id": "-g2pKzwu8K3u",
    "outputId": "366d8d3a-7402-491c-efeb-39620aee2a43"
   },
   "outputs": [
    {
     "data": {
      "text/plain": [
       "(15911, 3)"
      ]
     },
     "execution_count": 17,
     "metadata": {},
     "output_type": "execute_result"
    }
   ],
   "source": [
    "df.shape"
   ]
  },
  {
   "cell_type": "code",
   "execution_count": 18,
   "metadata": {
    "id": "unZDfkup7tK9"
   },
   "outputs": [],
   "source": [
    "df.to_csv('dataset_group_processed.csv', index=False)\n"
   ]
  },
  {
   "cell_type": "markdown",
   "metadata": {
    "id": "mKX6hDZpg6sf"
   },
   "source": [
    "## Rest EDA on Tableau"
   ]
  },
  {
   "cell_type": "code",
   "execution_count": null,
   "metadata": {},
   "outputs": [],
   "source": []
  }
 ],
 "metadata": {
  "colab": {
   "provenance": []
  },
  "kernelspec": {
   "display_name": "Python 3 (ipykernel)",
   "language": "python",
   "name": "python3"
  },
  "language_info": {
   "codemirror_mode": {
    "name": "ipython",
    "version": 3
   },
   "file_extension": ".py",
   "mimetype": "text/x-python",
   "name": "python",
   "nbconvert_exporter": "python",
   "pygments_lexer": "ipython3",
   "version": "3.11.5"
  }
 },
 "nbformat": 4,
 "nbformat_minor": 4
}
